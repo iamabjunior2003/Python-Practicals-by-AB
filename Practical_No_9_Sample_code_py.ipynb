{
  "nbformat": 4,
  "nbformat_minor": 0,
  "metadata": {
    "colab": {
      "name": "Practical No 9 Sample code py.ipynb",
      "provenance": [],
      "collapsed_sections": [],
      "authorship_tag": "ABX9TyP603xY+Pu4Zoo5O6TSJfdj",
      "include_colab_link": true
    },
    "kernelspec": {
      "name": "python3",
      "display_name": "Python 3"
    },
    "language_info": {
      "name": "python"
    }
  },
  "cells": [
    {
      "cell_type": "markdown",
      "metadata": {
        "id": "view-in-github",
        "colab_type": "text"
      },
      "source": [
        "<a href=\"https://colab.research.google.com/github/iamabjunior2003/Python-Practicals-by-AB/blob/main/Practical_No_9_Sample_code_py.ipynb\" target=\"_parent\"><img src=\"https://colab.research.google.com/assets/colab-badge.svg\" alt=\"Open In Colab\"/></a>"
      ]
    },
    {
      "cell_type": "code",
      "execution_count": null,
      "metadata": {
        "id": "Qt743xpYljXW",
        "colab": {
          "base_uri": "https://localhost:8080/"
        },
        "outputId": "685b5b1f-f233-4c17-dbb3-c8344d878553"
      },
      "outputs": [
        {
          "output_type": "stream",
          "name": "stdout",
          "text": [
            "{'Name': 'Zara', 'Age': 7, 'Class': 'First'}\n"
          ]
        }
      ],
      "source": [
        "dict1 = {'Name': 'Zara', 'Age': '7', 'Class': 'First'}\n",
        "print(dict1)"
      ]
    },
    {
      "cell_type": "code",
      "source": [
        "dict1 = {'Name': 'Zara', 'Age': 7, 'Class': 'First'}\n",
        "print(\"dict['Name']: \", dict1['Name'])\n",
        "print(\"dict['Age']: \", dict1['Age'])"
      ],
      "metadata": {
        "colab": {
          "base_uri": "https://localhost:8080/"
        },
        "id": "r5sdP-4yH17f",
        "outputId": "838e45c1-8eef-46f4-ea6d-55b07aa319bd"
      },
      "execution_count": null,
      "outputs": [
        {
          "output_type": "stream",
          "name": "stdout",
          "text": [
            "dict['Name']:  Zara\n",
            "dict['Age']:  7\n"
          ]
        }
      ]
    },
    {
      "cell_type": "code",
      "source": [
        "dict1 = {'Name': 'Zara', 'Age': 7, 'Class': 'First'}\n",
        "dict1['Age'] = 8; # update existing entry\n",
        "dict1['School'] = \"DPS School\"; # Add new entry\n",
        "print(\"dict['Age']: \", dict1['Age'])\n",
        "print(\"dict['School']: \", dict1['School'])"
      ],
      "metadata": {
        "colab": {
          "base_uri": "https://localhost:8080/"
        },
        "id": "8b-Y1YhbIJir",
        "outputId": "f45e46da-5eb4-4904-b4d8-bc64413e3513"
      },
      "execution_count": null,
      "outputs": [
        {
          "output_type": "stream",
          "name": "stdout",
          "text": [
            "dict['Age']:  8\n",
            "dict['School']:  DPS School\n"
          ]
        }
      ]
    },
    {
      "cell_type": "code",
      "source": [
        "dict = {'Name': 'Zara', 'Age': 7, 'Class': 'First'}\n",
        "del dict['Name']; # remove entry with key 'Name'\n",
        "dict.clear(); # remove all entries in dict\n",
        "del dict ; # delete entire dictionary"
      ],
      "metadata": {
        "id": "faf-XL4uIiOA"
      },
      "execution_count": null,
      "outputs": []
    },
    {
      "cell_type": "code",
      "source": [
        "dict = {'Name': 'Zara', 'Age': 7, 'Class': 'First'}\n",
        "for key, value in dict.items():\n",
        "    print(key, ' - ', value)"
      ],
      "metadata": {
        "colab": {
          "base_uri": "https://localhost:8080/"
        },
        "id": "jMy9r4BJIqs7",
        "outputId": "ba83bc5f-53a7-43d2-bf30-e170b2d855ba"
      },
      "execution_count": null,
      "outputs": [
        {
          "output_type": "stream",
          "name": "stdout",
          "text": [
            "Name  -  Zara\n",
            "Age  -  7\n",
            "Class  -  First\n"
          ]
        }
      ]
    },
    {
      "cell_type": "code",
      "source": [
        "dictionary = {'MSBTE' : 'Maharashtra State Board of Technical Education',\n",
        " 'CO' : 'Computer Engineering',\n",
        " 'SEM' : 'Sixth'\n",
        " }\n",
        "del dictionary['CO'];\n",
        "for key, values in dictionary.items():\n",
        "    print(key)\n",
        "dictionary.clear();\n",
        "for key, values in dictionary.items():\n",
        "    print(key)\n",
        "for key, values in dictionary.items():\n",
        "    print(key) \n",
        "del dictionary;\n"
      ],
      "metadata": {
        "colab": {
          "base_uri": "https://localhost:8080/"
        },
        "id": "YanY6EVzJfi_",
        "outputId": "fb4736da-f7e8-42a3-d56f-6eab32b89d6a"
      },
      "execution_count": null,
      "outputs": [
        {
          "output_type": "stream",
          "name": "stdout",
          "text": [
            "MSBTE\n",
            "SEM\n"
          ]
        }
      ]
    },
    {
      "cell_type": "code",
      "source": [
        "dictionary1 = {'Google' : 1,\n",
        " 'Facebook' : 2,\n",
        " 'Microsoft' : 3\n",
        " }\n",
        "dictionary2 = {'GFG' : 1,\n",
        " 'Microsoft' : 2,\n",
        " 'Youtube' : 3\n",
        " }\n",
        "dictionary1.update(dictionary2);\n",
        "for key, values in dictionary1.items():\n",
        " print(key, values)"
      ],
      "metadata": {
        "colab": {
          "base_uri": "https://localhost:8080/"
        },
        "id": "3WlwJ2UUjK7z",
        "outputId": "e0e2389b-6a5b-4575-beb6-ee289696d3d1"
      },
      "execution_count": 1,
      "outputs": [
        {
          "output_type": "stream",
          "name": "stdout",
          "text": [
            "Google 1\n",
            "Facebook 2\n",
            "Microsoft 2\n",
            "GFG 1\n",
            "Youtube 3\n"
          ]
        }
      ]
    },
    {
      "cell_type": "code",
      "source": [
        "temp = dict()\n",
        "temp['key1'] = {'key1' : 44, 'key2' : 566}\n",
        "temp['key2'] = [1, 2, 3, 4]\n",
        "for (key, values) in temp.items():\n",
        " print(values, end = \"\")"
      ],
      "metadata": {
        "colab": {
          "base_uri": "https://localhost:8080/"
        },
        "id": "iu_intRSjXH1",
        "outputId": "917c6116-69ee-4474-bee7-d88205db81b3"
      },
      "execution_count": 2,
      "outputs": [
        {
          "output_type": "stream",
          "name": "stdout",
          "text": [
            "{'key1': 44, 'key2': 566}[1, 2, 3, 4]"
          ]
        }
      ]
    }
  ]
}