{
  "nbformat": 4,
  "nbformat_minor": 0,
  "metadata": {
    "colab": {
      "name": "practical no 3",
      "provenance": [],
      "collapsed_sections": [],
      "authorship_tag": "ABX9TyO6GL2MgEUnoqt45plFo85Q",
      "include_colab_link": true
    },
    "kernelspec": {
      "name": "python3",
      "display_name": "Python 3"
    },
    "language_info": {
      "name": "python"
    }
  },
  "cells": [
    {
      "cell_type": "markdown",
      "metadata": {
        "id": "view-in-github",
        "colab_type": "text"
      },
      "source": [
        "<a href=\"https://colab.research.google.com/github/iamabjunior2003/Python-Practicals-by-AB/blob/main/practical_no_3.ipynb\" target=\"_parent\"><img src=\"https://colab.research.google.com/assets/colab-badge.svg\" alt=\"Open In Colab\"/></a>"
      ]
    },
    {
      "cell_type": "code",
      "execution_count": 4,
      "metadata": {
        "colab": {
          "base_uri": "https://localhost:8080/"
        },
        "id": "5vBCz142Npx8",
        "outputId": "017ef682-da4d-420f-89ce-ac15f0f05a9b"
      },
      "outputs": [
        {
          "output_type": "stream",
          "name": "stdout",
          "text": [
            "Enter currency in USD: 10\n",
            "The currency in INR is 763.8\n"
          ]
        }
      ],
      "source": [
        "# 1. Write a program to convert U.S. dollars to Indian rupees.\n",
        "usd = float(input(\"Enter currency in USD: \"))\n",
        "inr = usd * 76.38\n",
        "\n",
        "print(\"The currency in INR is\",round(inr,2))"
      ]
    },
    {
      "cell_type": "code",
      "source": [
        "# 2. Write a program to convert bits to Megabytes, Gigabytes and Terabytes\n",
        "def Bits(kilobytes) :\n",
        "\n",
        "    Bits = kilobytes * 8192\n",
        " \n",
        "    return Bits\n",
        " \n",
        "# Function to calculates the bytes\n",
        "def Bytes(kilobytes) :\n",
        " \n",
        "    Bytes = kilobytes * 1024\n",
        "    return Bytes\n",
        "\n",
        "if __name__ == \"__main__\" :\n",
        " \n",
        "    kilobytes = int(input(\"Enter kilobytes\"))\n",
        " \n",
        "    print(kilobytes, \"Kilobytes =\",\n",
        "    Bytes(kilobytes) , \"Bytes and\",\n",
        "    Bits(kilobytes), \"Bits\")"
      ],
      "metadata": {
        "colab": {
          "base_uri": "https://localhost:8080/"
        },
        "id": "KJabbXweQdJL",
        "outputId": "9939455c-7c47-4438-df55-38aed5185e63"
      },
      "execution_count": 7,
      "outputs": [
        {
          "output_type": "stream",
          "name": "stdout",
          "text": [
            "Enter kilobytes45\n",
            "45 Kilobytes = 46080 Bytes and 368640 Bits\n"
          ]
        }
      ]
    },
    {
      "cell_type": "code",
      "source": [
        "# 3. Write a program to find the square root of a number\n",
        "\n",
        "import math\n",
        "# importing Math library for the method math.sqrt() \n",
        "\n",
        "number = int(input(\"enter a number:\"))\n",
        "\n",
        "#input form user \n",
        "\n",
        "sqrt = math.sqrt(number)\n",
        "\n",
        "# math.sqrt inbuit mathod\n",
        "\n",
        "print(\"square root:\" , sqrt)"
      ],
      "metadata": {
        "colab": {
          "base_uri": "https://localhost:8080/"
        },
        "id": "03dAtwrnRmhS",
        "outputId": "00ef61da-1fc3-4738-d570-d83257873bad"
      },
      "execution_count": 10,
      "outputs": [
        {
          "output_type": "stream",
          "name": "stdout",
          "text": [
            "enter a number:225\n",
            "square root: 15.0\n"
          ]
        }
      ]
    },
    {
      "cell_type": "code",
      "source": [
        "# 4. Write a program to find the area of Rectangle\n",
        "\n",
        "length = int(input(\"Enter the length :\\n\"))\n",
        "\n",
        "width = int(input(\"Enter the width :\\n\"))\n",
        "\n",
        "# formula for area of rectangle is length * width\n",
        "\n",
        "area = length * width\n",
        "\n",
        "print(\"Area of Rectangle\",area)\n"
      ],
      "metadata": {
        "id": "7be60fdRTSFg"
      },
      "execution_count": null,
      "outputs": []
    },
    {
      "cell_type": "code",
      "source": [
        "# 5. Write a program to calculate area and perimeter of the square\n",
        "\n",
        "side = int(input(\"Enter the length of the one side of square : \\n\"))\n",
        "\n",
        "# formula for area of square is side square ex.A=A*A or A = A**2\n",
        "\n",
        "print(\"Area of Square is : \",side **2)\n",
        "\n",
        "# formula for  perimeter of a square = 4 × (length of any one side).\n",
        "\n",
        "print(\"Perimeter of Square is : \",4 *side)"
      ],
      "metadata": {
        "colab": {
          "base_uri": "https://localhost:8080/"
        },
        "id": "4ApEejr0UH_a",
        "outputId": "7632fed1-f37e-4156-e967-4fd08d62f242"
      },
      "execution_count": 12,
      "outputs": [
        {
          "output_type": "stream",
          "name": "stdout",
          "text": [
            "Enter the length of the one side of square : \n",
            "5\n",
            "Area of Square is :  25\n",
            "Perimeter of Square is :  20\n"
          ]
        }
      ]
    },
    {
      "cell_type": "code",
      "source": [
        "# 6. Write a program to calculate surface volume and area of a cylinder.\n",
        "\n",
        "# NOTE -: π = pi and r² = radius**2\n",
        "\n",
        "radius = int(input(\"Enter the radius of the cylander\"))\n",
        "\n",
        "height = int(input(\"Enter the height of the cylender\"))\n",
        "# declare the value of pie = 3.14 \n",
        "\n",
        "pi = 3.14\n",
        "\n",
        "# A cylinder's volume is π r² h  \n",
        "\n",
        "volume = pi*radius*height\n",
        "\n",
        "# surface area is 2π r h + 2π r²\n",
        "\n",
        "Area = 2*pi*radius*height+2*pi*(radius**2)\n",
        "\n",
        "print(\"surface volume cylinder : \",volume)\n",
        "\n",
        "print(\"surface Area cylinder : \",Area)"
      ],
      "metadata": {
        "colab": {
          "base_uri": "https://localhost:8080/"
        },
        "id": "cU74O0bvVweS",
        "outputId": "b8e9133a-006a-4ee3-c288-09be31ef54d4"
      },
      "execution_count": 13,
      "outputs": [
        {
          "output_type": "stream",
          "name": "stdout",
          "text": [
            "Enter the radius of the cylander2\n",
            "Enter the height of the cylender4\n",
            "surface volume cylinder :  25.12\n",
            "surface Area cylinder :  75.36\n"
          ]
        }
      ]
    },
    {
      "cell_type": "code",
      "source": [
        "# 7. Write a program to swap the value of two variables\n",
        "\n",
        "a = 10\n",
        "b = 20\n",
        "a,b = b,a\n",
        "print(\"a : \",a)\n",
        "print(\"b : \",b)"
      ],
      "metadata": {
        "id": "TW283Xe-XvAr"
      },
      "execution_count": null,
      "outputs": []
    }
  ]
}