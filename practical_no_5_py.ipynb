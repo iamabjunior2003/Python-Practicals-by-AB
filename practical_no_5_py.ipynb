{
  "nbformat": 4,
  "nbformat_minor": 0,
  "metadata": {
    "colab": {
      "name": "practical no 5.py",
      "provenance": [],
      "collapsed_sections": [],
      "authorship_tag": "ABX9TyM8T6AKKRXEXMbdB0OZJgMv",
      "include_colab_link": true
    },
    "kernelspec": {
      "name": "python3",
      "display_name": "Python 3"
    },
    "language_info": {
      "name": "python"
    }
  },
  "cells": [
    {
      "cell_type": "markdown",
      "metadata": {
        "id": "view-in-github",
        "colab_type": "text"
      },
      "source": [
        "<a href=\"https://colab.research.google.com/github/iamabjunior2003/Python-Practicals-by-AB/blob/main/practical_no_5_py.ipynb\" target=\"_parent\"><img src=\"https://colab.research.google.com/assets/colab-badge.svg\" alt=\"Open In Colab\"/></a>"
      ]
    },
    {
      "cell_type": "code",
      "execution_count": 3,
      "metadata": {
        "colab": {
          "base_uri": "https://localhost:8080/"
        },
        "id": "WOC2GqPE4Og4",
        "outputId": "b76ce884-1891-4124-abc9-62d45b46872f"
      },
      "outputs": [
        {
          "output_type": "stream",
          "name": "stdout",
          "text": [
            "Enter the number of rows : \n",
            "4\n",
            "* \n",
            "* * \n",
            "* * * \n",
            "* * * * \n"
          ]
        }
      ],
      "source": [
        "'''\n",
        "1. Print the following patterns using loop:\n",
        "    a. \n",
        "    *\n",
        "    **\n",
        "    ***\n",
        "    ****\n",
        "'''\n",
        "rows = int(input(\"Enter the number of rows : \\n\"))  \n",
        "\n",
        "# outer loop to handle number of rows  \n",
        "\n",
        "for i in range(0, rows):  \n",
        "    # inner loop to handle number of columns  \n",
        "        for j in range(0, i + 1):\n",
        "            # printing stars  \n",
        "            print(\"* \", end=\"\")       \n",
        "  \n",
        "        print()  "
      ]
    },
    {
      "cell_type": "code",
      "source": [
        "'''\n",
        "b. \n",
        "  *\n",
        " ***\n",
        "*****\n",
        " ***\n",
        "  *\n",
        "'''\n",
        "\n",
        "rows = int(input(\"Enter the number of rows: \\n\"))  \n",
        "  \n",
        "# It is used to print the space  \n",
        "k = 2 * rows - 2  \n",
        "# Outer loop to print number of rows  \n",
        "for i in range(0, rows):  \n",
        "    # Inner loop is used to print number of space  \n",
        "    for j in range(0, k):  \n",
        "        print(end=\" \")  \n",
        "    # Decrement in k after each iteration  \n",
        "    k = k - 1  \n",
        "    # This inner loop is used to print stars  \n",
        "    for j in range(0, i + 1):  \n",
        "        print(\"* \", end=\"\")  \n",
        "    print(\"\")  \n",
        "  \n",
        "# Downward triangle Pyramid  \n",
        "# It is used to print the space  \n",
        "k = rows - 2  \n",
        "# Output for downward triangle pyramid  \n",
        "for i in range(rows, -1, -1):  \n",
        "    # inner loop will print the spaces  \n",
        "    for j in range(k, 0, -1):  \n",
        "        print(end=\" \")  \n",
        "    # Increment in k after each iteration  \n",
        "    k = k + 1  \n",
        "    # This inner loop will print number of stars  \n",
        "    for j in range(0, i + 1):  \n",
        "        print(\"* \", end=\"\")  \n",
        "    print(\"\")  "
      ],
      "metadata": {
        "colab": {
          "base_uri": "https://localhost:8080/"
        },
        "id": "v4cqM4sq6WKu",
        "outputId": "f08bb4af-cff1-4467-a5cf-9ffac0976cd2"
      },
      "execution_count": 9,
      "outputs": [
        {
          "output_type": "stream",
          "name": "stdout",
          "text": [
            "Enter the number of rows: \n",
            "5\n",
            "        * \n",
            "       * * \n",
            "      * * * \n",
            "     * * * * \n",
            "    * * * * * \n",
            "   * * * * * * \n",
            "    * * * * * \n",
            "     * * * * \n",
            "      * * * \n",
            "       * * \n",
            "        * \n"
          ]
        }
      ]
    },
    {
      "cell_type": "code",
      "source": [
        "'''\n",
        "c.\n",
        " 1010101\n",
        "  10101\n",
        "   101\n",
        "    1\n",
        "'''\n",
        "i = 7\n",
        "s = 0\n",
        "k = 3\n",
        "while (i>=0 and k>=0):\n",
        "    a=(\" \"*s+\"10\"*k+\"1\"+\" \"*s)\n",
        "    print(a)\n",
        "    k=k-1\n",
        "    i=i-2\n",
        "    s=s+1"
      ],
      "metadata": {
        "colab": {
          "base_uri": "https://localhost:8080/"
        },
        "id": "PQb2kHfN7CUm",
        "outputId": "8e3c4ab1-9be0-4658-e433-1446cd6e059b"
      },
      "execution_count": 8,
      "outputs": [
        {
          "output_type": "stream",
          "name": "stdout",
          "text": [
            "1010101\n",
            " 10101 \n",
            "  101  \n",
            "   1   \n"
          ]
        }
      ]
    },
    {
      "cell_type": "code",
      "source": [
        "# 2. Write a Python program to print all even numbers between 1 to 100 using while loop\n",
        "i = 0 \n",
        "while i < 100: \n",
        "   i += 2 \n",
        "   print(i, end=\" \") "
      ],
      "metadata": {
        "colab": {
          "base_uri": "https://localhost:8080/"
        },
        "id": "Sc0aUhXx_YjL",
        "outputId": "112e08e3-5eeb-4fcf-d400-a846466ec674"
      },
      "execution_count": 22,
      "outputs": [
        {
          "output_type": "stream",
          "name": "stdout",
          "text": [
            "2 4 6 8 10 12 14 16 18 20 22 24 26 28 30 32 34 36 38 40 42 44 46 48 50 52 54 56 58 60 62 64 66 68 70 72 74 76 78 80 82 84 86 88 90 92 94 96 98 100 "
          ]
        }
      ]
    },
    {
      "cell_type": "code",
      "source": [
        "# 3. Write a Python program to find the sum of first 10 natural numbers using for loop\n",
        "\n",
        "# to get the sum of first 10 numbers if you want 20 or any other then just replace the number with 10 :)\n",
        "num = 10\n",
        "sum = 0\n",
        "\n",
        "while(num > 0):\n",
        "       sum += num\n",
        "       num -= 1\n",
        "print(f\"The Sum of the 10 natural number is : {sum}\")"
      ],
      "metadata": {
        "colab": {
          "base_uri": "https://localhost:8080/"
        },
        "id": "pLLkKpOWBrdS",
        "outputId": "bd3c6682-4f6f-434b-f778-ccce107cc1a2"
      },
      "execution_count": 28,
      "outputs": [
        {
          "output_type": "stream",
          "name": "stdout",
          "text": [
            "The Sum of the 10 natural number is : 55\n"
          ]
        }
      ]
    },
    {
      "cell_type": "code",
      "source": [
        "# 4. Write a Python program to print Fibonacci series.\n",
        "n = int(input(\"Enter the value of 'n': \"))\n",
        "a = 0\n",
        "b = 1\n",
        "sum = 0\n",
        "count = 1\n",
        "print(\"Fibonacci Series: \", end = \" \")\n",
        "while(count <= n):\n",
        "  print(sum, end = \" \")\n",
        "  count += 1\n",
        "  a = b\n",
        "  b = sum\n",
        "  sum = a + b"
      ],
      "metadata": {
        "colab": {
          "base_uri": "https://localhost:8080/"
        },
        "id": "csqmNim_GXMc",
        "outputId": "b45dbc04-bcdf-41ec-9399-eba164b36765"
      },
      "execution_count": 35,
      "outputs": [
        {
          "output_type": "stream",
          "name": "stdout",
          "text": [
            "Enter the value of 'n': 7\n",
            "Fibonacci Series:  0 1 1 2 3 5 8 "
          ]
        }
      ]
    },
    {
      "cell_type": "code",
      "source": [
        "# 6. Write a Python Program to Reverse a Given Number\n",
        "\n",
        "num = int(input(\"Enter any number : \\n\"))\n",
        "\n",
        "Number = int(str(num)[::-1])\n",
        "\n",
        "print(type(Number),f\"The Reverse Number is : {Number}\")"
      ],
      "metadata": {
        "colab": {
          "base_uri": "https://localhost:8080/"
        },
        "id": "-j1IHdU_dLpc",
        "outputId": "31e1d7ac-3f35-4609-f275-f2c485ec6b56"
      },
      "execution_count": 9,
      "outputs": [
        {
          "output_type": "stream",
          "name": "stdout",
          "text": [
            "Enter any number : \n",
            "987654321\n",
            "<class 'int'> The Reverse Number is : 123456789\n"
          ]
        }
      ]
    },
    {
      "cell_type": "code",
      "source": [
        "# 7. Write a Python program takes in a number and finds the sum of digits in a number.\n",
        "\n",
        "num = int(input(\"Enter any number : \\n\"))\n",
        "\n",
        "sum = 0\n",
        "\n",
        "for i in str(num):\n",
        "    sum += int(i)\n",
        "    \n",
        "print(sum)\n"
      ],
      "metadata": {
        "colab": {
          "base_uri": "https://localhost:8080/"
        },
        "id": "RQywL0Zmf6yT",
        "outputId": "d66cd339-eab3-43eb-ba53-240ad07b14da"
      },
      "execution_count": 11,
      "outputs": [
        {
          "output_type": "stream",
          "name": "stdout",
          "text": [
            "Enter any number : \n",
            "1928\n",
            "20\n"
          ]
        }
      ]
    },
    {
      "cell_type": "code",
      "source": [
        "# 8. Write a Python program that takes a number and checks whether it is a palindrome or not.\n",
        "Number = int(input(\"Enter Any number : \\n \"))\n",
        "\n",
        "if str(Number) == str(Number)[::-1]:\n",
        "    print(f\"{int(Number)} : is palindrome :)\")\n",
        "\n",
        "else:\n",
        "    print(f\"{int(Number)} : is Not palindrome :(\")\n"
      ],
      "metadata": {
        "colab": {
          "base_uri": "https://localhost:8080/"
        },
        "id": "WR-nVJ3yhgIt",
        "outputId": "26a45883-8520-41fd-aa5f-ef06234b92ed"
      },
      "execution_count": 14,
      "outputs": [
        {
          "output_type": "stream",
          "name": "stdout",
          "text": [
            "Enter Any number : \n",
            " 12321\n",
            "12321 : is palindrome :)\n"
          ]
        }
      ]
    }
  ]
}