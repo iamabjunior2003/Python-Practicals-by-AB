{
  "nbformat": 4,
  "nbformat_minor": 0,
  "metadata": {
    "colab": {
      "name": "Practical_No_11_Sample_code_py.ipynb",
      "provenance": [],
      "collapsed_sections": [],
      "authorship_tag": "ABX9TyPR9mhXCe48M9aZOcZrA8EU",
      "include_colab_link": true
    },
    "kernelspec": {
      "name": "python3",
      "display_name": "Python 3"
    },
    "language_info": {
      "name": "python"
    }
  },
  "cells": [
    {
      "cell_type": "markdown",
      "metadata": {
        "id": "view-in-github",
        "colab_type": "text"
      },
      "source": [
        "<a href=\"https://colab.research.google.com/github/iamabjunior2003/Python-Practicals-by-AB/blob/main/Practical_No_11_Sample_code_py.ipynb\" target=\"_parent\"><img src=\"https://colab.research.google.com/assets/colab-badge.svg\" alt=\"Open In Colab\"/></a>"
      ]
    },
    {
      "cell_type": "code",
      "execution_count": 5,
      "metadata": {
        "colab": {
          "base_uri": "https://localhost:8080/"
        },
        "id": "jhXdLfF4QDpB",
        "outputId": "5ce04bd5-7d0d-4f10-fb80-5af61f6e6a48"
      },
      "outputs": [
        {
          "name": "stdout",
          "output_type": "stream",
          "text": [
            "Enter Your cars name : \n",
            "G-63\n",
            "calling function\n",
            "Enter Your cars name : \n",
            "G63\n",
            "Enter Your cars name : \n",
            "G-63\n"
          ]
        },
        {
          "output_type": "execute_result",
          "data": {
            "text/plain": [
              "('My car name is : ', 'G-63')"
            ]
          },
          "metadata": {},
          "execution_count": 5
        }
      ],
      "source": [
        "# a) Creating a function:                                                                                                                 \n",
        "def Name_of_the_car():\n",
        "    return name\n",
        "\n",
        "# b)Calling a function:\n",
        "def Name_of_the_cars(name):\n",
        "   print(\"calling function\")\n",
        "\n",
        "name = input(\"Enter Your cars name : \\n\")\n",
        "Name_of_the_cars(name)\n",
        "\n",
        "# c) Arguments in function:\n",
        "def Name_of_the_cars2(name):\n",
        "    return \"My car name is : \",name\n",
        "\n",
        "name = input(\"Enter Your cars name : \\n\")\n",
        "Name_of_the_cars2(name)\n",
        "\n",
        "#  d) return Statement:\n",
        "def Name_of_the_cars2(name):\n",
        "    return \"My car name is : \",name\n",
        "\n",
        "name = input(\"Enter Your cars name : \\n\")\n",
        "Name_of_the_cars2(name)\n",
        "\n",
        "################################## BY-AB #######################################"
      ]
    },
    {
      "cell_type": "code",
      "source": [
        "def myfunc(text, num):\n",
        "    while num > 0:\n",
        "        print(text)\n",
        "        num = num - 1\n",
        "\n",
        "myfunc('Hello', 4)\n",
        "\n",
        "################################## BY-AB #######################################"
      ],
      "metadata": {
        "colab": {
          "base_uri": "https://localhost:8080/"
        },
        "id": "2t43HRvFTAnz",
        "outputId": "684acb31-4962-4728-a053-14878cf03489"
      },
      "execution_count": 7,
      "outputs": [
        {
          "output_type": "stream",
          "name": "stdout",
          "text": [
            "Hello\n",
            "Hello\n",
            "Hello\n",
            "Hello\n"
          ]
        }
      ]
    },
    {
      "cell_type": "code",
      "source": [
        "num = 1\n",
        "def func():\n",
        "    num = 3\n",
        "    print(num)\n",
        "\n",
        "func()\n",
        "print(num)\n",
        "\n",
        "################################## BY-AB #######################################"
      ],
      "metadata": {
        "colab": {
          "base_uri": "https://localhost:8080/"
        },
        "id": "etRsZeyaTLef",
        "outputId": "44a6034b-703f-48c7-afcb-e4f80f7f5171"
      },
      "execution_count": 8,
      "outputs": [
        {
          "output_type": "stream",
          "name": "stdout",
          "text": [
            "3\n",
            "1\n"
          ]
        }
      ]
    }
  ]
}