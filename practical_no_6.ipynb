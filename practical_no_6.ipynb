{
  "nbformat": 4,
  "nbformat_minor": 0,
  "metadata": {
    "colab": {
      "name": "practical no. 6.ipynb",
      "provenance": [],
      "collapsed_sections": [],
      "authorship_tag": "ABX9TyNpVJt1zXga3ra9ET9ZzSI+",
      "include_colab_link": true
    },
    "kernelspec": {
      "name": "python3",
      "display_name": "Python 3"
    },
    "language_info": {
      "name": "python"
    }
  },
  "cells": [
    {
      "cell_type": "markdown",
      "metadata": {
        "id": "view-in-github",
        "colab_type": "text"
      },
      "source": [
        "<a href=\"https://colab.research.google.com/github/iamabjunior2003/Python-Practicals-by-AB/blob/main/practical_no_6.ipynb\" target=\"_parent\"><img src=\"https://colab.research.google.com/assets/colab-badge.svg\" alt=\"Open In Colab\"/></a>"
      ]
    },
    {
      "cell_type": "code",
      "execution_count": 1,
      "metadata": {
        "colab": {
          "base_uri": "https://localhost:8080/"
        },
        "id": "b6eTCvUH1DfA",
        "outputId": "156c8e30-427a-4f43-adc4-ef30a52da5a6"
      },
      "outputs": [
        {
          "output_type": "stream",
          "name": "stdout",
          "text": [
            "883\n"
          ]
        }
      ],
      "source": [
        "# 1. Write a Python program to sum all the items in a list.\n",
        "\n",
        "mylist = [12,10,30,55,48,98,456,65,42,18,49]\n",
        "sum = 0\n",
        "for i in mylist:\n",
        "    sum += i\n",
        "\n",
        "print(sum)\n"
      ]
    },
    {
      "cell_type": "code",
      "source": [
        "# 2. Write a Python program to multiplies all the items in a list\n",
        "\n",
        "mylist = [12,10,30]\n",
        "Multiply = 1\n",
        "for i in mylist:\n",
        "    Multiply *= i\n",
        "\n",
        "print(Multiply)\n"
      ],
      "metadata": {
        "colab": {
          "base_uri": "https://localhost:8080/"
        },
        "id": "wqXnZQ9n5zUb",
        "outputId": "671968e7-6e25-4e78-a0a9-72ed71c97bcd"
      },
      "execution_count": 3,
      "outputs": [
        {
          "output_type": "stream",
          "name": "stdout",
          "text": [
            "360000\n"
          ]
        }
      ]
    },
    {
      "cell_type": "code",
      "source": [
        "# 3. Write a Python program to get the largest number from a list.\n",
        "\n",
        "mylist = [12,10,30,55,48,98,456,1025,42,18,49]\n",
        "\n",
        "mylist.sort()\n",
        "print(f\"The Largest Number In the List is : {mylist[-1]}\")"
      ],
      "metadata": {
        "colab": {
          "base_uri": "https://localhost:8080/"
        },
        "id": "JBf-J2zJ6aKi",
        "outputId": "d83392be-9d5e-4bdb-f2d2-0f489a6799a5"
      },
      "execution_count": 10,
      "outputs": [
        {
          "output_type": "stream",
          "name": "stdout",
          "text": [
            "The Largest Number In the List is : 1025\n"
          ]
        }
      ]
    },
    {
      "cell_type": "code",
      "source": [
        "# 4. Write a Python program to get the smallest number from a list.\n",
        "\n",
        "mylist = [12,10,30,55,48,98,456,1025,42,18,49]\n",
        "\n",
        "mylist.sort()\n",
        "print(f\"The Smallest Number In the List is : {mylist[0]}\")"
      ],
      "metadata": {
        "colab": {
          "base_uri": "https://localhost:8080/"
        },
        "id": "cJ2812a97H4J",
        "outputId": "d0365240-5c5f-4421-9d1f-8f04da8f3662"
      },
      "execution_count": 11,
      "outputs": [
        {
          "output_type": "stream",
          "name": "stdout",
          "text": [
            "The Smallest Number In the List is : 10\n"
          ]
        }
      ]
    },
    {
      "cell_type": "code",
      "source": [
        "# 5. Write a Python program to reverse a list.\n",
        "\n",
        "mylist = [12,10,30,55,48,98,456,1025,42,18,49]\n",
        "mylist [::-1]"
      ],
      "metadata": {
        "colab": {
          "base_uri": "https://localhost:8080/"
        },
        "id": "NwhafrCP7knT",
        "outputId": "80f915a0-4d91-4289-d81c-50f5f45e9a3e"
      },
      "execution_count": 14,
      "outputs": [
        {
          "output_type": "execute_result",
          "data": {
            "text/plain": [
              "[49, 18, 42, 1025, 456, 98, 48, 55, 30, 10, 12]"
            ]
          },
          "metadata": {},
          "execution_count": 14
        }
      ]
    },
    {
      "cell_type": "code",
      "source": [
        "# 6. Write a Python program to find common items from two lists.\n",
        "\n",
        "mylist = [12,10,30,55,48,98,456,1025,42,18,49,56,120]\n",
        "\n",
        "my_list = [12,10,30,56,120,12,10,30,55]\n",
        "\n",
        "for items in mylist:\n",
        "    for items2 in my_list:\n",
        "        if items == items2:\n",
        "            print(items)\n",
        "        else:\n",
        "            continue\n",
        "    else:\n",
        "        continue"
      ],
      "metadata": {
        "colab": {
          "base_uri": "https://localhost:8080/"
        },
        "id": "f8GcNv0M8YGI",
        "outputId": "437bfbb4-dd9d-4ef1-ba3f-1101cfc2ebd3"
      },
      "execution_count": 21,
      "outputs": [
        {
          "output_type": "stream",
          "name": "stdout",
          "text": [
            "12\n",
            "12\n",
            "10\n",
            "10\n",
            "30\n",
            "30\n",
            "55\n",
            "56\n",
            "120\n"
          ]
        }
      ]
    },
    {
      "cell_type": "code",
      "source": [
        "# 7. Write a Python program to select the even items of a list.\n",
        "\n",
        "mylist = [12,10,30,55,48,98,456,1025,42,18,49,56,120]\n",
        "\n",
        "for i in mylist:\n",
        "    if i%2==0:\n",
        "        print(i)\n",
        "    else:\n",
        "        continue\n"
      ],
      "metadata": {
        "colab": {
          "base_uri": "https://localhost:8080/"
        },
        "id": "Z9Rgf0mYBURZ",
        "outputId": "26167b80-ca08-4d04-ff35-0fd65591b46d"
      },
      "execution_count": 22,
      "outputs": [
        {
          "output_type": "stream",
          "name": "stdout",
          "text": [
            "12\n",
            "10\n",
            "30\n",
            "48\n",
            "98\n",
            "456\n",
            "42\n",
            "18\n",
            "56\n",
            "120\n"
          ]
        }
      ]
    }
  ]
}