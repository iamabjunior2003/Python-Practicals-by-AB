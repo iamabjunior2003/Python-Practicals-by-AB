{
  "nbformat": 4,
  "nbformat_minor": 0,
  "metadata": {
    "colab": {
      "name": "Practical No 5 Sample code .py",
      "provenance": [],
      "collapsed_sections": [],
      "authorship_tag": "ABX9TyMm9hroIEM/d9Y/X0HTuAZf",
      "include_colab_link": true
    },
    "kernelspec": {
      "name": "python3",
      "display_name": "Python 3"
    },
    "language_info": {
      "name": "python"
    }
  },
  "cells": [
    {
      "cell_type": "markdown",
      "metadata": {
        "id": "view-in-github",
        "colab_type": "text"
      },
      "source": [
        "<a href=\"https://colab.research.google.com/github/iamabjunior2003/Python-Practicals-by-AB/blob/main/Practical_No_5_Sample_code_py.ipynb\" target=\"_parent\"><img src=\"https://colab.research.google.com/assets/colab-badge.svg\" alt=\"Open In Colab\"/></a>"
      ]
    },
    {
      "cell_type": "code",
      "source": [
        "count = 0\n",
        "while (count < 5):\n",
        "    print ('The count is ', count)\n",
        "    count = count + 1\n",
        "print( \"Good bye!\")"
      ],
      "metadata": {
        "colab": {
          "base_uri": "https://localhost:8080/"
        },
        "id": "Snlz0La15Oxv",
        "outputId": "2dbff103-996a-4a05-b8b5-77837381c4ad"
      },
      "execution_count": 7,
      "outputs": [
        {
          "output_type": "stream",
          "name": "stdout",
          "text": [
            "The count is  0\n",
            "The count is  1\n",
            "The count is  2\n",
            "The count is  3\n",
            "The count is  4\n",
            "Good bye!\n"
          ]
        }
      ]
    },
    {
      "cell_type": "code",
      "source": [
        "for letter in 'Python': # First Example\n",
        "    print ('Current Letter :', letter)\n",
        "    fruits = ['banana', 'apple', 'mango']\n",
        "for fruit in fruits: # Second Example\n",
        "    print ('Current fruit :', fruit)\n",
        "    print (\"Good bye!\")\n"
      ],
      "metadata": {
        "colab": {
          "base_uri": "https://localhost:8080/"
        },
        "id": "zR_y4S2R5hYH",
        "outputId": "f5d3891a-0fb0-439a-9f8e-323f82748a6c"
      },
      "execution_count": 10,
      "outputs": [
        {
          "output_type": "stream",
          "name": "stdout",
          "text": [
            "Current Letter : P\n",
            "Current Letter : y\n",
            "Current Letter : t\n",
            "Current Letter : h\n",
            "Current Letter : o\n",
            "Current Letter : n\n",
            "Current fruit : banana\n",
            "Good bye!\n",
            "Current fruit : apple\n",
            "Good bye!\n",
            "Current fruit : mango\n",
            "Good bye!\n"
          ]
        }
      ]
    },
    {
      "cell_type": "code",
      "source": [
        "for Number in range (1, 20):\n",
        "    count = 0\n",
        "    for i in range(2, (Number//2 + 1)):\n",
        "        if(Number % i == 0):\n",
        "            count = count + 1\n",
        "            break\n",
        "\n",
        "    if (count == 0 and Number != 1):\n",
        "        print(\" %d\" %Number, end = '  ')"
      ],
      "metadata": {
        "colab": {
          "base_uri": "https://localhost:8080/"
        },
        "id": "yNdlVscY5-8Z",
        "outputId": "6623d6cd-b299-45b1-eaf0-ff5afedde567"
      },
      "execution_count": 14,
      "outputs": [
        {
          "output_type": "stream",
          "name": "stdout",
          "text": [
            " 2   3   5   7   11   13   17   19  "
          ]
        }
      ]
    }
  ]
}