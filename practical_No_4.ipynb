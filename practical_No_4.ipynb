{
  "nbformat": 4,
  "nbformat_minor": 0,
  "metadata": {
    "colab": {
      "name": "Practical No.4",
      "provenance": [],
      "collapsed_sections": [],
      "authorship_tag": "ABX9TyNjIpPBpmJlo0tl6RYpAPgT",
      "include_colab_link": true
    },
    "kernelspec": {
      "name": "python3",
      "display_name": "Python 3"
    },
    "language_info": {
      "name": "python"
    }
  },
  "cells": [
    {
      "cell_type": "markdown",
      "metadata": {
        "id": "view-in-github",
        "colab_type": "text"
      },
      "source": [
        "<a href=\"https://colab.research.google.com/github/iamabjunior2003/Python-Practicals-by-AB/blob/main/Practical_No_4.ipynb\" target=\"_parent\"><img src=\"https://colab.research.google.com/assets/colab-badge.svg\" alt=\"Open In Colab\"/></a>"
      ]
    },
    {
      "cell_type": "code",
      "execution_count": null,
      "metadata": {
        "colab": {
          "base_uri": "https://localhost:8080/"
        },
        "id": "axchp296c8Gy",
        "outputId": "f383c637-7319-48cf-dbe9-cb99b76bcb54"
      },
      "outputs": [
        {
          "output_type": "stream",
          "name": "stdout",
          "text": [
            "Enter any numer to check whether a number is even or odd \n",
            "10\n",
            "The Number is Even \n"
          ]
        }
      ],
      "source": [
        "# 1. Write a program to check whether a number is even or odd\n",
        "\n",
        "Number = int(input(\"Enter any numer to check whether a number is even or odd \\n\"))\n",
        "\n",
        "if Number%2==0:\n",
        "    print(\"The Number is Even \")\n",
        "else:\n",
        "    print(\"The Number is Odd\")"
      ]
    },
    {
      "cell_type": "code",
      "source": [
        "# 2. Write a program to find out absolute value of an input number\n",
        "Number = float(input(\"Enter Number \\n\"))\n",
        "# built-in Method abs()\n",
        "absolute_Number = abs(Number)\n",
        "\n",
        "print(absolute_Number)\n"
      ],
      "metadata": {
        "colab": {
          "base_uri": "https://localhost:8080/"
        },
        "id": "RyZd13C9eEuX",
        "outputId": "16b650df-2c3f-4d11-bb75-afd22af21834"
      },
      "execution_count": null,
      "outputs": [
        {
          "output_type": "stream",
          "name": "stdout",
          "text": [
            "Enter Number \n",
            "-45\n",
            "45.0\n"
          ]
        }
      ]
    },
    {
      "cell_type": "code",
      "source": [
        "# 3. Write a program to check the largest number among the three numbers\n",
        "\n",
        "Number1 = float(input(\"Enter first number: \"))\n",
        "\n",
        "Number2 = float(input(\"Enter second number: \"))\n",
        "\n",
        "Number3 = float(input(\"Enter third number: \"))\n",
        " \n",
        "if (Number1 > Number2) and (Number1 > Number3):\n",
        "\n",
        "    largest = Number1\n",
        "\n",
        "elif (Number2 > Number1) and (Number2 > Number3):\n",
        "\n",
        "    largest = Number2\n",
        "\n",
        "else:\n",
        "    \n",
        "    largest = Number3\n",
        " \n",
        "print(\"The largest number is\",largest)"
      ],
      "metadata": {
        "colab": {
          "base_uri": "https://localhost:8080/"
        },
        "id": "F5LxaosIhnOc",
        "outputId": "4a119377-542a-445c-fe1b-e6bfe57cfc05"
      },
      "execution_count": null,
      "outputs": [
        {
          "output_type": "stream",
          "name": "stdout",
          "text": [
            "Enter first number: 56\n",
            "Enter second number: 56\n",
            "Enter third number: 568\n",
            "The largest number is 568.0\n"
          ]
        }
      ]
    },
    {
      "cell_type": "code",
      "source": [
        "# 4. Write a program to check if the input year is a leap year of not\n",
        "\n",
        "\n",
        "'''\n",
        "# To get year (string input) from the user\n",
        "year = input(\"Enter Year\")\n",
        "\n",
        "'''\n",
        "# To get year (integer input) from the user\n",
        "\n",
        "year = int(input(\"Enter a year: \"))\n",
        "\n",
        "def Is_Leap_Or_NOT(year):\n",
        "    if (year % 4) == 0:\n",
        "        if (year % 100) == 0:\n",
        "            if (year % 400) == 0:\n",
        "                return True\n",
        "            else:\n",
        "                return False\n",
        "        else:\n",
        "             return True\n",
        "    else:\n",
        "        return False\n",
        " \n",
        "if(Is_Leap_Or_NOT(year)):\n",
        "    # using f strinf to print the year\n",
        "    print(f\"{year} : is a Leap Year\")\n",
        "else:\n",
        "    # using f strinf to print the year\n",
        "    print(f\"{year} :is Not a Leap Year\")"
      ],
      "metadata": {
        "colab": {
          "base_uri": "https://localhost:8080/"
        },
        "id": "b5Sxbz3wjHJG",
        "outputId": "ab5c2a43-78f9-4923-905a-7a25705b1c73"
      },
      "execution_count": null,
      "outputs": [
        {
          "output_type": "stream",
          "name": "stdout",
          "text": [
            "Enter a year: 400\n",
            "400 : is a Leap Year\n"
          ]
        }
      ]
    },
    {
      "cell_type": "code",
      "source": [
        "# 5. Write a program to check if a Number is Positive, Negative or Zero\n",
        "\n",
        "Number = float(input(\"Enter a Number: \"))\n",
        "\n",
        "if Number > 0:\n",
        "\n",
        "     print(\"Positive Number\")\n",
        "\n",
        "elif Number == 0:\n",
        "    \n",
        "    print(\"Zero\")\n",
        "\n",
        "else:\n",
        "    print(\"Negative Number\")"
      ],
      "metadata": {
        "colab": {
          "base_uri": "https://localhost:8080/"
        },
        "id": "w0t8FAumlo-P",
        "outputId": "69039ed3-cfca-4f35-e695-065b5e2d68ac"
      },
      "execution_count": null,
      "outputs": [
        {
          "output_type": "stream",
          "name": "stdout",
          "text": [
            "Enter a Number: -98\n",
            "Negative Number\n"
          ]
        }
      ]
    },
    {
      "cell_type": "code",
      "source": [
        "# 6. Write a program that takes the marks of 5 subjects and displays the grade.\n",
        "\n",
        "ETI = float(input(\"Enter marks of the ETI : \"))\n",
        "\n",
        "PYTHON = float(input(\"Enter marks of the PYTHON: \"))\n",
        "\n",
        "PHP = float(input(\"Enter marks of the PHP: \"))\n",
        "\n",
        "EDP = float(input(\"Enter marks of the EDP: \"))\n",
        "\n",
        "MAD = float(input(\"Enter marks of the MAD: \"))\n",
        "\n",
        "avg= int((ETI+PYTHON+PHP+EDP+MAD)/5)\n",
        "\n",
        "if(avg>=91):\n",
        "    print(\"Grade: A\")\n",
        "\n",
        "elif(avg>=81 and avg<=90):\n",
        "    print(\"Grade: B\")\n",
        "\n",
        "elif(avg>=71 and avg<=80):\n",
        "    print(\"Grade: C\")\n",
        "\n",
        "elif(avg>=61 and avg<=70):\n",
        "    print(\"Grade: D\")\n",
        "\n",
        "else:\n",
        "    print(\"Grade: F\")"
      ],
      "metadata": {
        "colab": {
          "base_uri": "https://localhost:8080/"
        },
        "id": "L1zjh6IimgFu",
        "outputId": "b73817fb-a56c-416d-8e8e-874f9f50fb94"
      },
      "execution_count": null,
      "outputs": [
        {
          "output_type": "stream",
          "name": "stdout",
          "text": [
            "Enter marks of the ETI : 96\n",
            "Enter marks of the PYTHON: 98\n",
            "Enter marks of the PHP: 85\n",
            "Enter marks of the EDP: 99\n",
            "Enter marks of the MAD: 98\n",
            "Grade: A\n"
          ]
        }
      ]
    }
  ]
}