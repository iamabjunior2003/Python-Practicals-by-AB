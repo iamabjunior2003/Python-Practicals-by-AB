{
  "nbformat": 4,
  "nbformat_minor": 0,
  "metadata": {
    "colab": {
      "name": "practical no. 7.ipynb",
      "provenance": [],
      "collapsed_sections": [],
      "authorship_tag": "ABX9TyOYF8ciat9qRgELdy6aiJZz",
      "include_colab_link": true
    },
    "kernelspec": {
      "name": "python3",
      "display_name": "Python 3"
    },
    "language_info": {
      "name": "python"
    }
  },
  "cells": [
    {
      "cell_type": "markdown",
      "metadata": {
        "id": "view-in-github",
        "colab_type": "text"
      },
      "source": [
        "<a href=\"https://colab.research.google.com/github/iamabjunior2003/Python-Practicals-by-AB/blob/main/practical_no_7.ipynb\" target=\"_parent\"><img src=\"https://colab.research.google.com/assets/colab-badge.svg\" alt=\"Open In Colab\"/></a>"
      ]
    },
    {
      "cell_type": "code",
      "execution_count": null,
      "metadata": {
        "colab": {
          "base_uri": "https://localhost:8080/"
        },
        "id": "lLrML31dCatd",
        "outputId": "17a68b4e-c341-4941-c4b3-85ce24947892"
      },
      "outputs": [
        {
          "output_type": "stream",
          "name": "stdout",
          "text": [
            "The Smallest Number in Tuple Is : 10 \n",
            "And The Largest Number in Tuple Is : 874 \n",
            "The Smallest Number in Tuple Is : 10 \n",
            "And The Largest Number in Tuple Is : 874 \n"
          ]
        }
      ],
      "source": [
        "# 1. Create a tuple and find the minimum and maximum number from it\n",
        "\n",
        "mytuple = (10,23,56,874,85,241,65,25,95,75)\n",
        "mylist = list(mytuple)\n",
        "mylist.sort()\n",
        "mytuple = tuple(mylist)\n",
        "\n",
        "print(f\"The Smallest Number in Tuple Is : {mytuple[0]} \\nAnd The Largest Number in Tuple Is : {mytuple[-1]} \")\n",
        "\n",
        "# or \n",
        "\n",
        "mytuple2 = (10,23,56,874,85,241,65,25,95,75)\n",
        "\n",
        "print(f\"The Smallest Number in Tuple Is : {min(mytuple2)} \\nAnd The Largest Number in Tuple Is : {max(mytuple2)} \")\n"
      ]
    },
    {
      "cell_type": "code",
      "source": [
        "# 2. Write a Python program to find the repeated items of a tuple.\n",
        "\n",
        "t = (10,23,56,10,23)\n",
        "\n",
        "for i in range(0,len(t)):\n",
        " \n",
        "    for j in range(i+1,len(t)):\n",
        " \n",
        "        if t[i]==t[j]:\n",
        " \n",
        "            print(t[i],end=\" \")\n",
        "\n"
      ],
      "metadata": {
        "colab": {
          "base_uri": "https://localhost:8080/"
        },
        "id": "Gx1rg3SPHmK8",
        "outputId": "bab4faab-dd22-4f51-bba9-794f4d57ab19"
      },
      "execution_count": null,
      "outputs": [
        {
          "output_type": "stream",
          "name": "stdout",
          "text": [
            "10 23 "
          ]
        }
      ]
    },
    {
      "cell_type": "code",
      "source": [
        "# 3. Print the number in words for Example: 1234 => One Two Three Four\n",
        "\n",
        "Number = int(input(\"Enter anu number : \\n\"))\n",
        "\n",
        "Num = str(Number)\n",
        "\n",
        "for i in Num:\n",
        "    if i == \"1\":\n",
        "        print(\"ONE\",end=\" \")\n",
        "    elif i == \"2\":\n",
        "        print(\"TWO\",end=\" \")\n",
        "    elif i == \"3\":\n",
        "        print(\"THREE\",end=\" \")\n",
        "    elif i == \"4\": \n",
        "        print(\"FOUR\",end=\" \")\n",
        "    elif i == \"5\":\n",
        "        print(\"FIVE\",end=\" \")\n",
        "    elif i == \"6\":\n",
        "        print(\"SIX\",end=\" \")\n",
        "    elif i == \"7\":\n",
        "        print(\"SEVEN\",end=\" \")\n",
        "    elif i == \"8\":\n",
        "        print(\"EIGHT\",end=\" \")\n",
        "    elif i == \"9\":\n",
        "        print(\"NINE\",end=\" \")\n",
        "    elif i == \"0\":\n",
        "        print(\"ZERO\",end=\" \")\n",
        "\n",
        "    \n",
        "  "
      ],
      "metadata": {
        "id": "3XpS-6nIbIRS",
        "colab": {
          "base_uri": "https://localhost:8080/"
        },
        "outputId": "92d9219b-ec79-453b-ef17-4e5f46568cea"
      },
      "execution_count": 7,
      "outputs": [
        {
          "output_type": "stream",
          "name": "stdout",
          "text": [
            "Enter anu number : \n",
            "9175104705\n",
            "NINE ONE SEVEN FIVE ONE ZERO FOUR SEVEN ZERO FIVE "
          ]
        }
      ]
    },
    {
      "cell_type": "markdown",
      "source": [
        ""
      ],
      "metadata": {
        "id": "rY7IQvx6IIBY"
      }
    }
  ]
}