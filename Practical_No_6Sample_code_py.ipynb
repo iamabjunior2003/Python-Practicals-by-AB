{
  "nbformat": 4,
  "nbformat_minor": 0,
  "metadata": {
    "colab": {
      "name": "Practical No 6Sample code .py",
      "provenance": [],
      "collapsed_sections": [],
      "authorship_tag": "ABX9TyOTjDw+IinpfAf/RGL16HUH",
      "include_colab_link": true
    },
    "kernelspec": {
      "name": "python3",
      "display_name": "Python 3"
    },
    "language_info": {
      "name": "python"
    }
  },
  "cells": [
    {
      "cell_type": "markdown",
      "metadata": {
        "id": "view-in-github",
        "colab_type": "text"
      },
      "source": [
        "<a href=\"https://colab.research.google.com/github/iamabjunior2003/Python-Practicals-by-AB/blob/main/Practical_No_6Sample_code_py.ipynb\" target=\"_parent\"><img src=\"https://colab.research.google.com/assets/colab-badge.svg\" alt=\"Open In Colab\"/></a>"
      ]
    },
    {
      "cell_type": "code",
      "source": [
        "List1=[\"Java\",\"Python\",\"Perl\"]\n",
        "\n",
        "List2=[10,20,30,40,50]\n",
        "\n",
        "print(List2[1])\n",
        "print(List2[1:3])\n",
        "print(List2[0])\n",
        "\n"
      ],
      "metadata": {
        "colab": {
          "base_uri": "https://localhost:8080/"
        },
        "id": "oAmnKTP27m89",
        "outputId": "98ae769e-34fe-469d-d910-b1ccfd5b88eb"
      },
      "execution_count": 20,
      "outputs": [
        {
          "output_type": "stream",
          "name": "stdout",
          "text": [
            "20\n",
            "[20, 30]\n",
            "10\n"
          ]
        }
      ]
    },
    {
      "cell_type": "code",
      "source": [
        "List1=[\"Java\",\"Python\",\"Perl\"]\n",
        "\n",
        "List2=[10,20,30,40,50]\n",
        "List2.remove(10) \n",
        "\n",
        "List2[0]=60\n",
        "\n",
        "List2.append(40)\n",
        "print(List2) \n",
        "List2.extend([60,70]) \n",
        "print(List2) \n",
        "\n",
        "List2+[40,50,60]\n",
        "print(List2) \n",
        "\n",
        "\n",
        "\n",
        "del List2[2]\n"
      ],
      "metadata": {
        "colab": {
          "base_uri": "https://localhost:8080/"
        },
        "id": "OyKMZVDH-PYs",
        "outputId": "d4438984-b28e-47ae-d88c-367cdc602ae6"
      },
      "execution_count": 22,
      "outputs": [
        {
          "output_type": "stream",
          "name": "stdout",
          "text": [
            "[60, 30, 40, 50, 40]\n",
            "[60, 30, 40, 50, 40, 60, 70]\n",
            "[60, 30, 40, 50, 40, 60, 70]\n"
          ]
        }
      ]
    }
  ]
}