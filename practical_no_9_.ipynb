{
  "nbformat": 4,
  "nbformat_minor": 0,
  "metadata": {
    "colab": {
      "name": "practical no 9 .ipynb",
      "provenance": [],
      "collapsed_sections": [],
      "authorship_tag": "ABX9TyMV0LH0JGVIrAk0iPGvnlXU",
      "include_colab_link": true
    },
    "kernelspec": {
      "name": "python3",
      "display_name": "Python 3"
    },
    "language_info": {
      "name": "python"
    }
  },
  "cells": [
    {
      "cell_type": "markdown",
      "metadata": {
        "id": "view-in-github",
        "colab_type": "text"
      },
      "source": [
        "<a href=\"https://colab.research.google.com/github/iamabjunior2003/Python-Practicals-by-AB/blob/main/practical_no_9_.ipynb\" target=\"_parent\"><img src=\"https://colab.research.google.com/assets/colab-badge.svg\" alt=\"Open In Colab\"/></a>"
      ]
    },
    {
      "cell_type": "code",
      "execution_count": 18,
      "metadata": {
        "colab": {
          "base_uri": "https://localhost:8080/"
        },
        "id": "8Z4bNZTs4xX-",
        "outputId": "9381a05f-0b10-402f-f7fd-b5e1a71ee123"
      },
      "outputs": [
        {
          "output_type": "stream",
          "name": "stdout",
          "text": [
            "ascending order of cars by values :  {'BUGGATI': 0, 'Rolly-Royce': 1, 'BMW': 2, 'TATA': 3, 'G-63': 4}\n",
            "descending order of cars by values :  {'G-63': 4, 'TATA': 3, 'BMW': 2, 'Rolly-Royce': 1, 'BUGGATI': 0}\n"
          ]
        }
      ],
      "source": [
        "# 1. Write a Python script to sort (ascending and descending) a dictionary by value\n",
        "\n",
        "import operator\n",
        "\n",
        "cars = {\"BMW\": 2, \"G-63\": 4, \"TATA\": 3, \"Rolly-Royce\": 1, \"BUGGATI\": 0}\n",
        "\n",
        "s= dict(sorted(d.items(), key=operator.itemgetter(1)))\n",
        "\n",
        "print('ascending order of cars by values : ',s)\n",
        "\n",
        "s1= dict( sorted(d.items(), key=operator.itemgetter(1),reverse=True))\n",
        "\n",
        "print('descending order of cars by values : ',s1)"
      ]
    },
    {
      "cell_type": "code",
      "source": [
        "'''\n",
        "2. Write a Python script to concatenate following dictionaries to create a new one.\n",
        "a. Sample Dictionary:\n",
        "b. dic1 = {1:10, 2:20}\n",
        "c. dic2 = {3:30, 4:40}\n",
        "d. dic3 = {5:50,6:60}\n",
        "'''\n",
        "dic1 = {1:10, 2:20}\n",
        "dic2 = {3:30, 4:40}\n",
        "dic3 = {5:50, 6:60}\n",
        "dic4 ={}\n",
        "\n",
        "for d in (dic1, dic2, dic3):\n",
        "    dic4.update(d)\n",
        "    print(dic4)\n"
      ],
      "metadata": {
        "colab": {
          "base_uri": "https://localhost:8080/"
        },
        "id": "XUcl250P9uST",
        "outputId": "d3153ab5-6152-4200-8ace-fbd4c5704564"
      },
      "execution_count": 22,
      "outputs": [
        {
          "output_type": "stream",
          "name": "stdout",
          "text": [
            "{1: 10, 2: 20}\n",
            "{1: 10, 2: 20, 3: 30, 4: 40}\n",
            "{1: 10, 2: 20, 3: 30, 4: 40, 5: 50, 6: 60}\n"
          ]
        }
      ]
    },
    {
      "cell_type": "code",
      "source": [
        "'''\n",
        "3. Write a Python program to combine two dictionary adding values for common\n",
        "keys.\n",
        "a. d1 = {'a': 100, 'b': 200, 'c':300}\n",
        "b. d2 = {'a': 300, 'b': 200, 'c':400}\n",
        "\n",
        "'''\n",
        "\n",
        "d1 = {'a': 100, 'b': 200, 'c':300}\n",
        "d2 = {'a': 300, 'b': 200, 'c':400}\n",
        "\n",
        "for i in d2:\n",
        "    if i in d1:\n",
        "        d2[i] = d2[i] + d1[i]\n",
        "    else:\n",
        "        pass\n",
        "          \n",
        "print(d2)"
      ],
      "metadata": {
        "colab": {
          "base_uri": "https://localhost:8080/"
        },
        "id": "5dVUAZyv_rkE",
        "outputId": "eb1bf0ac-50ef-436c-8dc1-e03e86dd1f86"
      },
      "execution_count": 29,
      "outputs": [
        {
          "output_type": "stream",
          "name": "stdout",
          "text": [
            "{'a': 400, 'b': 400, 'c': 700}\n"
          ]
        }
      ]
    },
    {
      "cell_type": "code",
      "source": [
        "from typing import Union\n",
        "'''\n",
        "4. Write a Python program to print all unique values in a dictionary.\n",
        "\n",
        "'''\n",
        "d1 = [{'a': 100, 'b': 200, 'c':300,'d': 300, 'e': 200, 'f':400}]\n",
        "print(\"Original List: \",d1)\n",
        "u_value = set( val for dic in d1 for val in dic.values())\n",
        "print(\"Unique Values: \",u_value)\n"
      ],
      "metadata": {
        "colab": {
          "base_uri": "https://localhost:8080/"
        },
        "id": "FxISI5aaBS0x",
        "outputId": "954fad13-1a9d-43e5-f18f-bf034f3d2818"
      },
      "execution_count": 38,
      "outputs": [
        {
          "output_type": "stream",
          "name": "stdout",
          "text": [
            "Original List:  [{'a': 100, 'b': 200, 'c': 300, 'd': 300, 'e': 200, 'f': 400}]\n",
            "Unique Values:  {200, 100, 400, 300}\n"
          ]
        }
      ]
    },
    {
      "cell_type": "code",
      "source": [
        "from collections import Counter\n",
        "\n",
        "my_dict = {\"BMW\": 2, \"G-63\": 4, \"TATA\": 3, \"Rolly-Royce\": 1, \"BUGGATI\": 0}\n",
        "\n",
        "a = Counter(my_dict)\n",
        "\n",
        "large = a.most_common(3)\n",
        "\n",
        "print(\"Dictionary with 3 highest values:\")\n",
        "\n",
        "print(\"Keys: Values\")\n",
        "\n",
        "for i in large:\n",
        "\n",
        "   print(i[0],\" :\",i[1],\" \")\n"
      ],
      "metadata": {
        "colab": {
          "base_uri": "https://localhost:8080/"
        },
        "id": "PUvaeDDUCNfN",
        "outputId": "bd1dca23-29e8-47ef-d666-de67ab52b4b2"
      },
      "execution_count": 48,
      "outputs": [
        {
          "output_type": "stream",
          "name": "stdout",
          "text": [
            "Dictionary with 3 highest values:\n",
            "Keys: Values\n",
            "G-63  : 4  \n",
            "TATA  : 3  \n",
            "BMW  : 2  \n"
          ]
        }
      ]
    }
  ]
}