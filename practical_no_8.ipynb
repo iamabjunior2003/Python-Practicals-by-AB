{
  "nbformat": 4,
  "nbformat_minor": 0,
  "metadata": {
    "colab": {
      "name": "practical no 8.ipynb",
      "provenance": [],
      "collapsed_sections": [],
      "authorship_tag": "ABX9TyMh8+BFWPWc0EsHXTfUf6x4",
      "include_colab_link": true
    },
    "kernelspec": {
      "name": "python3",
      "display_name": "Python 3"
    },
    "language_info": {
      "name": "python"
    }
  },
  "cells": [
    {
      "cell_type": "markdown",
      "metadata": {
        "id": "view-in-github",
        "colab_type": "text"
      },
      "source": [
        "<a href=\"https://colab.research.google.com/github/iamabjunior2003/Python-Practicals-by-AB/blob/main/practical_no_8.ipynb\" target=\"_parent\"><img src=\"https://colab.research.google.com/assets/colab-badge.svg\" alt=\"Open In Colab\"/></a>"
      ]
    },
    {
      "cell_type": "code",
      "execution_count": 1,
      "metadata": {
        "colab": {
          "base_uri": "https://localhost:8080/"
        },
        "id": "ndMSksOdcjT6",
        "outputId": "f5ef9ca5-e37e-42d5-d804-2bd4455ba451"
      },
      "outputs": [
        {
          "output_type": "stream",
          "name": "stdout",
          "text": [
            "{'d', 's', 'c', 'a', 'b'}\n"
          ]
        }
      ],
      "source": [
        "# 1. Write a Python program to create a set, add member(s) in a set and remove one item from set.\n",
        "\n",
        "myset = {'a','b','c','d'}\n",
        "myset.add('s')\n",
        "print(myset)"
      ]
    },
    {
      "cell_type": "code",
      "source": [
        "''' 2. Write a Python program to perform following operations on set: \n",
        "intersection of sets, union of sets, set difference, symmetric difference, clear a set.\n",
        "'''\n",
        "myset1 = {'a','b','c','l'}\n",
        "myset2 = {'a','b','c','d','s','t','l','u'}\n",
        "\n",
        "print(\"intersection : \",myset1.intersection(myset2))\n",
        "print(\"Union : \",myset2.union(myset1))\n",
        "print(\"Set difference : \",myset2.difference(myset1))\n",
        "print(\"Symmetric difference : \",myset1.symmetric_difference(myset2))\n",
        "myset1.clear()\n",
        "print(myset1)\n"
      ],
      "metadata": {
        "colab": {
          "base_uri": "https://localhost:8080/"
        },
        "id": "uoQB652kdYaM",
        "outputId": "0ec82803-b04a-4ba4-9b37-7f6535d97fdb"
      },
      "execution_count": 13,
      "outputs": [
        {
          "output_type": "stream",
          "name": "stdout",
          "text": [
            "intersection :  {'a', 'c', 'b', 'l'}\n",
            "Union :  {'d', 's', 'c', 'l', 't', 'a', 'u', 'b'}\n",
            "Set difference :  {'u', 's', 'd', 't'}\n",
            "Symmetric difference :  {'d', 's', 't', 'u'}\n",
            "set()\n"
          ]
        }
      ]
    },
    {
      "cell_type": "code",
      "source": [
        "# 3. Write a Python program to find maximum and the minimum value in a set.\n",
        "\n",
        "myset = {1,2,3,4,5,6,7,8,9,10,11,29,33,56}\n",
        "print(\"Max : \",max(myset))\n",
        "print(\"Min : \",min(myset))\n"
      ],
      "metadata": {
        "colab": {
          "base_uri": "https://localhost:8080/"
        },
        "id": "5meuIFwSgZYW",
        "outputId": "47291cf4-77f5-4462-a8c7-ada101750aa2"
      },
      "execution_count": 15,
      "outputs": [
        {
          "output_type": "stream",
          "name": "stdout",
          "text": [
            "Max :  56\n",
            "Min :  1\n"
          ]
        }
      ]
    },
    {
      "cell_type": "code",
      "source": [
        "# 4. Write a Python program to find the length of a set.\n",
        "\n",
        "myset = {1,2,3,4,5,6,7,8,9,10,11,29,33,56}\n",
        "print(\"Length : \",len(myset))"
      ],
      "metadata": {
        "colab": {
          "base_uri": "https://localhost:8080/"
        },
        "id": "lHpBYLHdhNgh",
        "outputId": "6977a53a-962e-46a6-b89a-95ebb8cd1bf2"
      },
      "execution_count": 17,
      "outputs": [
        {
          "output_type": "stream",
          "name": "stdout",
          "text": [
            "Length :  14\n"
          ]
        }
      ]
    }
  ]
}