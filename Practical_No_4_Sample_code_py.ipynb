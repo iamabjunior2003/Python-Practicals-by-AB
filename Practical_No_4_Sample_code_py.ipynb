{
  "nbformat": 4,
  "nbformat_minor": 0,
  "metadata": {
    "colab": {
      "name": "Practical No 4 Sample code .py",
      "provenance": [],
      "collapsed_sections": [],
      "authorship_tag": "ABX9TyNvRkfYneuNyGd8OVDddEJJ",
      "include_colab_link": true
    },
    "kernelspec": {
      "name": "python3",
      "display_name": "Python 3"
    },
    "language_info": {
      "name": "python"
    }
  },
  "cells": [
    {
      "cell_type": "markdown",
      "metadata": {
        "id": "view-in-github",
        "colab_type": "text"
      },
      "source": [
        "<a href=\"https://colab.research.google.com/github/iamabjunior2003/Python-Practicals-by-AB/blob/main/Practical_No_4_Sample_code_py.ipynb\" target=\"_parent\"><img src=\"https://colab.research.google.com/assets/colab-badge.svg\" alt=\"Open In Colab\"/></a>"
      ]
    },
    {
      "cell_type": "code",
      "source": [
        "i=10\n",
        "if(i > 20): \n",
        "    print (\"10 is less than 20\")\n",
        "print (\"We are Not in if \") "
      ],
      "metadata": {
        "colab": {
          "base_uri": "https://localhost:8080/"
        },
        "id": "-jw0K_jr2_Qs",
        "outputId": "30ecea8e-8cbd-468c-a826-c4f7963fb678"
      },
      "execution_count": 3,
      "outputs": [
        {
          "output_type": "stream",
          "name": "stdout",
          "text": [
            "We are Not in if \n"
          ]
        }
      ]
    },
    {
      "cell_type": "code",
      "source": [
        "i=10;\n",
        "if(i<20):\n",
        " print (\"i is smaller than 20\")\n",
        "else:\n",
        " print (\"i is greater than 25\")"
      ],
      "metadata": {
        "colab": {
          "base_uri": "https://localhost:8080/"
        },
        "id": "_9h5614R3zRQ",
        "outputId": "5ee20284-ff48-474d-9cf5-e38210792049"
      },
      "execution_count": 4,
      "outputs": [
        {
          "output_type": "stream",
          "name": "stdout",
          "text": [
            "i is smaller than 20\n"
          ]
        }
      ]
    },
    {
      "cell_type": "code",
      "source": [
        "i =10\n",
        "if(i ==10):\n",
        "\n",
        "        \n",
        "    # First if statement\n",
        "    if(i < 20):\n",
        "        print (\"i is smaller than 20\")\n",
        "        # Nested - if statement will only be executed if statement above is true\n",
        "    if (i < 15):\n",
        "        print (\"i is smaller than 15 too\")\n",
        "    else:\n",
        "        print (\"i is greater than 15\") \n"
      ],
      "metadata": {
        "colab": {
          "base_uri": "https://localhost:8080/"
        },
        "id": "-6V_eEpR3406",
        "outputId": "a93d848c-d304-4df7-bc14-f603cabe08fe"
      },
      "execution_count": 6,
      "outputs": [
        {
          "output_type": "stream",
          "name": "stdout",
          "text": [
            "i is smaller than 20\n",
            "i is smaller than 15 too\n"
          ]
        }
      ]
    }
  ]
}