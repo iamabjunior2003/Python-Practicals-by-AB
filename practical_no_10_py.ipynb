{
  "nbformat": 4,
  "nbformat_minor": 0,
  "metadata": {
    "colab": {
      "name": "practical_no_10_py.ipynb",
      "provenance": [],
      "collapsed_sections": [],
      "authorship_tag": "ABX9TyPvF29pcqKXGkFw+Cei2gVk",
      "include_colab_link": true
    },
    "kernelspec": {
      "name": "python3",
      "display_name": "Python 3"
    },
    "language_info": {
      "name": "python"
    }
  },
  "cells": [
    {
      "cell_type": "markdown",
      "metadata": {
        "id": "view-in-github",
        "colab_type": "text"
      },
      "source": [
        "<a href=\"https://colab.research.google.com/github/iamabjunior2003/Python-Practicals-by-AB/blob/main/practical_no_10_py.ipynb\" target=\"_parent\"><img src=\"https://colab.research.google.com/assets/colab-badge.svg\" alt=\"Open In Colab\"/></a>"
      ]
    },
    {
      "cell_type": "code",
      "execution_count": 2,
      "metadata": {
        "colab": {
          "base_uri": "https://localhost:8080/"
        },
        "id": "yiBrl-6lHhVC",
        "outputId": "7835fc8c-7fa4-4a9c-8f8e-d208f522fbc7"
      },
      "outputs": [
        {
          "output_type": "stream",
          "name": "stdout",
          "text": [
            "The floor of 21.6 is: 21\n",
            "The value of PI: 3.141592653589793\n",
            "8.0\n",
            "The given angle is : 1.5707963267948966\n",
            "sin(x) is : 1.0\n",
            "cos(x) is : 6.123233995736766e-17\n",
            "tan(x) is : 1.633123935319537e+16\n"
          ]
        }
      ],
      "source": [
        "import math\n",
        "\n",
        "data = 21.6\n",
        "print('The floor of 21.6 is:', math.floor(data))\n",
        "print('The value of PI:',math.pi)\n",
        "print(math.pow(2, 3))\n",
        "data = 21.6\n",
        "\n",
        "angleInDegree = 90\n",
        "angleInRadian = math.radians(angleInDegree)\n",
        "\n",
        "print('The given angle is :', angleInRadian)\n",
        "print('sin(x) is :', math.sin(angleInRadian))\n",
        "print('cos(x) is :', math.cos(angleInRadian))\n",
        "print('tan(x) is :', math.tan(angleInRadian))"
      ]
    },
    {
      "cell_type": "code",
      "source": [
        "# Capitalizes a string\n",
        "s = \"heLLo BuDdY\"\n",
        "s2 = s.capitalize()\n",
        "print(\"Capitalizes a string : \",s2)\n",
        "#s.lower() in Python\n",
        "s2 = s.lower()\n",
        "print(\"s.lower() in Python : \",s2)\n",
        "#s.upper() in Python\n",
        "s2 = s.upper()\n",
        "print(\"s2 = s.upper() : \",s2)\n",
        "#s.title() in Python\n",
        "s2 = s.title()\n",
        "print(\"s.title() in Python : \",s2)"
      ],
      "metadata": {
        "colab": {
          "base_uri": "https://localhost:8080/"
        },
        "id": "Iq9xhbKzI_eB",
        "outputId": "d9b5a582-2d4f-42ae-a70f-c23c7c3e3d24"
      },
      "execution_count": 5,
      "outputs": [
        {
          "output_type": "stream",
          "name": "stdout",
          "text": [
            "Capitalizes a string :  Hello buddy\n",
            "s.lower() in Python :  hello buddy\n",
            "s2 = s.upper() :  HELLO BUDDY\n",
            "s.title() in Python :  Hello Buddy\n"
          ]
        }
      ]
    }
  ]
}